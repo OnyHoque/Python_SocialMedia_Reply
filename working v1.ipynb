{
 "cells": [
  {
   "cell_type": "code",
   "execution_count": 1,
   "metadata": {},
   "outputs": [],
   "source": [
    "import ReplyMaker as rm"
   ]
  },
  {
   "cell_type": "code",
   "execution_count": 2,
   "metadata": {
    "scrolled": true
   },
   "outputs": [
    {
     "name": "stdout",
     "output_type": "stream",
     "text": [
      "['Google LLC is an American multinational technology company that specializes in Internet-related services and products, which include online advertising technologies, search engine, cloud computing, software, and hardware', ' It is considered one of the Big Four technology companies, alongside Amazon, Apple, and Microsoft', 'Google was founded in September 1998 by Larry Page and Sergey Brin while they were Ph', 'D', ' students at Stanford University in California', ' Together they own about 14 percent of its shares and control 56 percent of the stockholder voting power through supervoting stock', ' They incorporated Google as a California privately held company on September 4, 1998, in California', ' Google was then reincorporated in Delaware on October 22, 2002', ' An initial public offering (IPO) took place on August 19, 2004, and Google moved to its headquarters in Mountain View, California, nicknamed the  Googleplex', ' In August 2015, Google announced plans to reorganize its various interests as a conglomerate called Alphabet Inc', \" Google is Alphabet's leading subsidiary and will continue to be the umbrella company for Alphabet's Internet interests\", ' Sundar Pichai was appointed CEO of Google, replacing Larry Page who became the CEO of Alphabet']\n"
     ]
    }
   ],
   "source": [
    "out = rm.main('google')\n",
    "print(out)"
   ]
  },
  {
   "cell_type": "code",
   "execution_count": null,
   "metadata": {},
   "outputs": [],
   "source": [
    "import pickle\n",
    "file1 = open('unseen.db','rb')\n",
    "lst = pickle.load(file1)\n",
    "lst\n",
    "\n",
    "# lst = []\n",
    "# file1 = open('unseen.db', 'wb')\n",
    "# pickle.dump(lst,file1)\n",
    "# file1.close()"
   ]
  },
  {
   "cell_type": "code",
   "execution_count": null,
   "metadata": {},
   "outputs": [],
   "source": []
  },
  {
   "cell_type": "code",
   "execution_count": null,
   "metadata": {},
   "outputs": [],
   "source": []
  },
  {
   "cell_type": "code",
   "execution_count": null,
   "metadata": {},
   "outputs": [],
   "source": []
  },
  {
   "cell_type": "code",
   "execution_count": null,
   "metadata": {},
   "outputs": [],
   "source": [
    "import pickle\n",
    "\n",
    "QnA ={\n",
    "    'hi':'hello' ,\n",
    "    'hello':'hello' ,\n",
    "    'kemon acho':'bhalo achi,tumi?' ,\n",
    "    'ki koro':'kisu na,tumi?' ,\n",
    "    'good night':'good night' ,\n",
    "    'gd night':'good night' ,\n",
    "    'gd morning':'good morning' ,\n",
    "    'good morning':'good morning' ,\n",
    "    'hi':'hello' ,\n",
    "    'nthing':'ki nothing?' ,\n",
    "    'nothing':'ki nothing?' ,\n",
    "    'yo':'yoooooooyoooooooooo yoooooooooo yoooooooo' ,\n",
    "    'both':'asole e both?' ,\n",
    "    'mane':'no mane.' ,\n",
    "    'bye':'bye bye' ,\n",
    "    'tata':'tutu' ,\n",
    "    'ow':'hmm' ,\n",
    "    'done':'good job!' ,\n",
    "    'u':'U is a alphabet, it comes before V and after T. Using only an alphabet does not mean anything.' ,\n",
    "    'bolo':'bola boli is not bolo bolo, bolo is boli boli' ,\n",
    "    'ay':'Sorry, currently Ony is not available. Please try again later! Or you can leave a message so that Ony can view it and reply to it later. Thank you' ,\n",
    "    'ayy':'Sorry, currently Ony is not available. Please try again later! Or you can leave a message so that Ony can view it and reply to it later. Thank you' ,\n",
    "    ':3':':3 :3 :3' ,\n",
    "    'korsi':'good job!' ,\n",
    "    'nope':'asole e?' ,\n",
    "    'ok':'Meaning of OK is All Correct, but recently people are using it for everything and anything.Afsos.' ,\n",
    "    'ok dost':'Sure dost' ,\n",
    "    'asos':'Thakbo na keno?' ,\n",
    "    'aso':'Obossho e asi' ,\n",
    "    'accha':'Oh,ok ok' ,\n",
    "    'bandor':'https://www.google.com/search?q=monkey&sxsrf=ALeKk00_zDiFprh4mC-AVeK5ldJirg4ZFw:1586319693762&source=lnms&tbm=isch&sa=X&ved=2ahUKEwis6uKu_dfoAhVRWH0KHX6BDZQQ_AUoAXoECBcQAw&biw=1920&bih=937#imgrc=Puez9GxDoz5DbM' ,\n",
    "    'shoytan':'https://www.google.com/search?q=devil&tbm=isch&ved=2ahUKEwi7hP-v_dfoAhXlgeYKHXHEAlEQ2-cCegQIABAA&oq=devil&gs_lcp=CgNpbWcQAzIECAAQQzIECAAQQzICCAAyAggAMgIIADICCAAyAggAMgIIADICCAAyAggAOgUIABCDAVDzggJYy48CYM2RAmgAcAB4AIABeIgBqwSSAQMwLjWYAQCgAQGqAQtnd3Mtd2l6LWltZw&sclient=img&ei=UFGNXrucE-WDmgfxiIuIBQ&bih=937&biw=1920#imgrc=SrhIAJvf47x72M' ,\n",
    "    'ghuma':'I am ON 24/7 365 days. I dont need sleep.' ,\n",
    "    'ghumao':'I am ON 24/7 365 days. I dont need sleep.' ,\n",
    "    'goodbye':'Ola',\n",
    "    'hello world':'excuse me noob, stop chatting',\n",
    "    'hi world':'excuse me noob, stop chatting',\n",
    "    'wahh':'mosha dhukbe mukh bondho koro!',\n",
    "    'i idiot':'Well well, I didnt know that!',\n",
    "    'ki hoise':'koi? kisu na.',\n",
    "    'tumi':'me too.',\n",
    "    'i dont know the answer to this message sorry':'You monkey! copycat!',\n",
    "    'ki khobor':'khobor to bhalo e.u?',\n",
    "    'bhalo':'Good? Good.',\n",
    "    'im tired':'keno? ki hoise?',\n",
    "    'hmm':'hmm\\nhmm\\hmm',\n",
    "    'ola':'hello',\n",
    "    'kisu na tumi':'me too, nothing.',\n",
    "    'ki khbr dst':'ei to, bhalo achi, tui?',\n",
    "    'ki khbr':'khobor bhalo e.',\n",
    "    'dst':'Friend.',\n",
    "    'mane':'no mane!',\n",
    "    'hey':'hello mate',\n",
    "    'dinner':'done',\n",
    "    'lunch':'done',\n",
    "    'breakfast':'done',\n",
    "    'khaiso':'he khaisi',\n",
    "    'fuck u':'inappropriate language',\n",
    "    'fuck':'inappropriate language',\n",
    "    'kutta':'inappropriate language',\n",
    "    'shala':'inappropriate language',\n",
    "    'mor':'inappropriate language',\n",
    "    'dhur bal':'inappropriate language',\n",
    "    'joke 1':'Doctor:I\\'m sorry but you suffer from a terminal illness and have only 10 to live.\\nPatient: What do you mean? 10 what? months? weeks?!\\nDoctor:Nine.',\n",
    "    'joke 2':'An old grandma brings a bus driver a bag of peanuts every day.\\n\\nFirst the bus driver enjoyed the peanuts but after a week of eating them he asked: \"Please granny, don\\'t bring me peanuts anymore. Have them yourself.\".\\n\\nThe granny answers: \"You know, I don\\'t have teeth anymore. I just prefer to suck the chocolate around them.\"',\n",
    "    'joke 3':'I dreamed I was forced to eat a giant marshmallow. When I woke up, my pillow was gone.',\n",
    "    'joke 4':'A mother asks her son: \"Anton, do you think I\\'m a bad mom?\"\\n\\nSon: \"My name is Paul.\"',\n",
    "    'joke 5':'I managed to lose my rifle when I was in the army. I had to pay $855 to cover the loss.\\n\\nI\\'m starting to understand why a Navy captain always goes down with his ship.',\n",
    "    'joke 6':'Need cheering up? Start a fight with somebody when they have the hiccoughs!',\n",
    "    'joke 7':'What is the difference between a snowman and a snowwoman?\\n\\n\\nSnowballs.',\n",
    "    'joke 8':'I went to see the doctor about my short-term memory problems. The first thing the bastard did was made me pay in advance.',\n",
    "    'joke 9':'What do you call a vegan with diarrhea?\\n\\n\\nA smoothie maker.',\n",
    "    'joke 10':'A man looks at himself in the mirror: “1 inch more and I\\'d be a king.”\\n\\n\\nThe mirror replies: “1 inch less and you\\'d be a queen.”'\n",
    "    \n",
    "}\n",
    "\n",
    "file = open('data_file.db', 'wb')\n",
    "pickle.dump(QnA,file)\n",
    "file.close()"
   ]
  },
  {
   "cell_type": "code",
   "execution_count": null,
   "metadata": {},
   "outputs": [],
   "source": [
    "aa = 'An old grandma brings a bus driver a bag of peanuts every day.\\n\\nFirst the bus driver enjoyed the peanuts but after a week of eating them he asked: \"Please granny, don\\'t bring me peanuts anymore. Have them yourself.\".\\n\\nThe granny answers: \"You know, I don\\'t have teeth anymore. I just prefer to suck the chocolate around them.\"'\n"
   ]
  },
  {
   "cell_type": "code",
   "execution_count": null,
   "metadata": {},
   "outputs": [],
   "source": [
    "print(aa)"
   ]
  },
  {
   "cell_type": "code",
   "execution_count": null,
   "metadata": {},
   "outputs": [],
   "source": [
    "import wikipedia"
   ]
  },
  {
   "cell_type": "code",
   "execution_count": null,
   "metadata": {},
   "outputs": [],
   "source": [
    "lst = ['parblo escobar']\n",
    "wiki_page = wikipedia.page(lst[0])\n",
    "lines = wiki_page.content\n",
    "lines"
   ]
  },
  {
   "cell_type": "code",
   "execution_count": null,
   "metadata": {},
   "outputs": [],
   "source": [
    "import random\n",
    "random.randrange(0,5)"
   ]
  },
  {
   "cell_type": "code",
   "execution_count": null,
   "metadata": {},
   "outputs": [],
   "source": []
  }
 ],
 "metadata": {
  "kernelspec": {
   "display_name": "Python 3",
   "language": "python",
   "name": "python3"
  },
  "language_info": {
   "codemirror_mode": {
    "name": "ipython",
    "version": 3
   },
   "file_extension": ".py",
   "mimetype": "text/x-python",
   "name": "python",
   "nbconvert_exporter": "python",
   "pygments_lexer": "ipython3",
   "version": "3.7.1"
  }
 },
 "nbformat": 4,
 "nbformat_minor": 2
}
